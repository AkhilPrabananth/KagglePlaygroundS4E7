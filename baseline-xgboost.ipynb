{
 "cells": [
  {
   "cell_type": "markdown",
   "id": "c7bde89a",
   "metadata": {
    "papermill": {
     "duration": 0.010336,
     "end_time": "2024-07-13T05:23:21.422003",
     "exception": false,
     "start_time": "2024-07-13T05:23:21.411667",
     "status": "completed"
    },
    "tags": []
   },
   "source": [
    "# Importing Libraries "
   ]
  },
  {
   "cell_type": "code",
   "execution_count": 1,
   "id": "58a86c71",
   "metadata": {
    "execution": {
     "iopub.execute_input": "2024-07-13T05:23:21.443794Z",
     "iopub.status.busy": "2024-07-13T05:23:21.443423Z",
     "iopub.status.idle": "2024-07-13T05:23:23.656706Z",
     "shell.execute_reply": "2024-07-13T05:23:23.655619Z"
    },
    "papermill": {
     "duration": 2.227141,
     "end_time": "2024-07-13T05:23:23.659284",
     "exception": false,
     "start_time": "2024-07-13T05:23:21.432143",
     "status": "completed"
    },
    "tags": []
   },
   "outputs": [],
   "source": [
    "import pandas as pd\n",
    "import numpy as np\n",
    "import matplotlib.pyplot as plt\n",
    "\n",
    "from sklearn.model_selection import train_test_split\n",
    "from sklearn.metrics import roc_auc_score\n",
    "from sklearn.pipeline import Pipeline\n",
    "\n",
    "from xgboost import XGBClassifier"
   ]
  },
  {
   "cell_type": "code",
   "execution_count": 2,
   "id": "383245b3",
   "metadata": {
    "execution": {
     "iopub.execute_input": "2024-07-13T05:23:23.682285Z",
     "iopub.status.busy": "2024-07-13T05:23:23.681718Z",
     "iopub.status.idle": "2024-07-13T05:23:43.177925Z",
     "shell.execute_reply": "2024-07-13T05:23:43.176702Z"
    },
    "papermill": {
     "duration": 19.510715,
     "end_time": "2024-07-13T05:23:43.180559",
     "exception": false,
     "start_time": "2024-07-13T05:23:23.669844",
     "status": "completed"
    },
    "tags": []
   },
   "outputs": [],
   "source": [
    "train_data = pd.read_csv(\"/kaggle/input/playground-series-s4e7/train.csv\")"
   ]
  },
  {
   "cell_type": "code",
   "execution_count": 3,
   "id": "edac4165",
   "metadata": {
    "execution": {
     "iopub.execute_input": "2024-07-13T05:23:43.203200Z",
     "iopub.status.busy": "2024-07-13T05:23:43.202254Z",
     "iopub.status.idle": "2024-07-13T05:23:43.229148Z",
     "shell.execute_reply": "2024-07-13T05:23:43.228036Z"
    },
    "papermill": {
     "duration": 0.040685,
     "end_time": "2024-07-13T05:23:43.231436",
     "exception": false,
     "start_time": "2024-07-13T05:23:43.190751",
     "status": "completed"
    },
    "tags": []
   },
   "outputs": [
    {
     "data": {
      "text/html": [
       "<div>\n",
       "<style scoped>\n",
       "    .dataframe tbody tr th:only-of-type {\n",
       "        vertical-align: middle;\n",
       "    }\n",
       "\n",
       "    .dataframe tbody tr th {\n",
       "        vertical-align: top;\n",
       "    }\n",
       "\n",
       "    .dataframe thead th {\n",
       "        text-align: right;\n",
       "    }\n",
       "</style>\n",
       "<table border=\"1\" class=\"dataframe\">\n",
       "  <thead>\n",
       "    <tr style=\"text-align: right;\">\n",
       "      <th></th>\n",
       "      <th>id</th>\n",
       "      <th>Gender</th>\n",
       "      <th>Age</th>\n",
       "      <th>Driving_License</th>\n",
       "      <th>Region_Code</th>\n",
       "      <th>Previously_Insured</th>\n",
       "      <th>Vehicle_Age</th>\n",
       "      <th>Vehicle_Damage</th>\n",
       "      <th>Annual_Premium</th>\n",
       "      <th>Policy_Sales_Channel</th>\n",
       "      <th>Vintage</th>\n",
       "      <th>Response</th>\n",
       "    </tr>\n",
       "  </thead>\n",
       "  <tbody>\n",
       "    <tr>\n",
       "      <th>0</th>\n",
       "      <td>0</td>\n",
       "      <td>Male</td>\n",
       "      <td>21</td>\n",
       "      <td>1</td>\n",
       "      <td>35.0</td>\n",
       "      <td>0</td>\n",
       "      <td>1-2 Year</td>\n",
       "      <td>Yes</td>\n",
       "      <td>65101.0</td>\n",
       "      <td>124.0</td>\n",
       "      <td>187</td>\n",
       "      <td>0</td>\n",
       "    </tr>\n",
       "    <tr>\n",
       "      <th>1</th>\n",
       "      <td>1</td>\n",
       "      <td>Male</td>\n",
       "      <td>43</td>\n",
       "      <td>1</td>\n",
       "      <td>28.0</td>\n",
       "      <td>0</td>\n",
       "      <td>&gt; 2 Years</td>\n",
       "      <td>Yes</td>\n",
       "      <td>58911.0</td>\n",
       "      <td>26.0</td>\n",
       "      <td>288</td>\n",
       "      <td>1</td>\n",
       "    </tr>\n",
       "    <tr>\n",
       "      <th>2</th>\n",
       "      <td>2</td>\n",
       "      <td>Female</td>\n",
       "      <td>25</td>\n",
       "      <td>1</td>\n",
       "      <td>14.0</td>\n",
       "      <td>1</td>\n",
       "      <td>&lt; 1 Year</td>\n",
       "      <td>No</td>\n",
       "      <td>38043.0</td>\n",
       "      <td>152.0</td>\n",
       "      <td>254</td>\n",
       "      <td>0</td>\n",
       "    </tr>\n",
       "    <tr>\n",
       "      <th>3</th>\n",
       "      <td>3</td>\n",
       "      <td>Female</td>\n",
       "      <td>35</td>\n",
       "      <td>1</td>\n",
       "      <td>1.0</td>\n",
       "      <td>0</td>\n",
       "      <td>1-2 Year</td>\n",
       "      <td>Yes</td>\n",
       "      <td>2630.0</td>\n",
       "      <td>156.0</td>\n",
       "      <td>76</td>\n",
       "      <td>0</td>\n",
       "    </tr>\n",
       "    <tr>\n",
       "      <th>4</th>\n",
       "      <td>4</td>\n",
       "      <td>Female</td>\n",
       "      <td>36</td>\n",
       "      <td>1</td>\n",
       "      <td>15.0</td>\n",
       "      <td>1</td>\n",
       "      <td>1-2 Year</td>\n",
       "      <td>No</td>\n",
       "      <td>31951.0</td>\n",
       "      <td>152.0</td>\n",
       "      <td>294</td>\n",
       "      <td>0</td>\n",
       "    </tr>\n",
       "  </tbody>\n",
       "</table>\n",
       "</div>"
      ],
      "text/plain": [
       "   id  Gender  Age  Driving_License  Region_Code  Previously_Insured  \\\n",
       "0   0    Male   21                1         35.0                   0   \n",
       "1   1    Male   43                1         28.0                   0   \n",
       "2   2  Female   25                1         14.0                   1   \n",
       "3   3  Female   35                1          1.0                   0   \n",
       "4   4  Female   36                1         15.0                   1   \n",
       "\n",
       "  Vehicle_Age Vehicle_Damage  Annual_Premium  Policy_Sales_Channel  Vintage  \\\n",
       "0    1-2 Year            Yes         65101.0                 124.0      187   \n",
       "1   > 2 Years            Yes         58911.0                  26.0      288   \n",
       "2    < 1 Year             No         38043.0                 152.0      254   \n",
       "3    1-2 Year            Yes          2630.0                 156.0       76   \n",
       "4    1-2 Year             No         31951.0                 152.0      294   \n",
       "\n",
       "   Response  \n",
       "0         0  \n",
       "1         1  \n",
       "2         0  \n",
       "3         0  \n",
       "4         0  "
      ]
     },
     "execution_count": 3,
     "metadata": {},
     "output_type": "execute_result"
    }
   ],
   "source": [
    "train_data.head()"
   ]
  },
  {
   "cell_type": "code",
   "execution_count": 4,
   "id": "2d35b92a",
   "metadata": {
    "execution": {
     "iopub.execute_input": "2024-07-13T05:23:43.254973Z",
     "iopub.status.busy": "2024-07-13T05:23:43.254277Z",
     "iopub.status.idle": "2024-07-13T05:23:43.260984Z",
     "shell.execute_reply": "2024-07-13T05:23:43.260009Z"
    },
    "papermill": {
     "duration": 0.020601,
     "end_time": "2024-07-13T05:23:43.263263",
     "exception": false,
     "start_time": "2024-07-13T05:23:43.242662",
     "status": "completed"
    },
    "tags": []
   },
   "outputs": [
    {
     "data": {
      "text/plain": [
       "(11504798, 12)"
      ]
     },
     "execution_count": 4,
     "metadata": {},
     "output_type": "execute_result"
    }
   ],
   "source": [
    "train_data.shape"
   ]
  },
  {
   "cell_type": "markdown",
   "id": "36a3a4aa",
   "metadata": {
    "papermill": {
     "duration": 0.010353,
     "end_time": "2024-07-13T05:23:43.284365",
     "exception": false,
     "start_time": "2024-07-13T05:23:43.274012",
     "status": "completed"
    },
    "tags": []
   },
   "source": [
    "# Types of variables"
   ]
  },
  {
   "cell_type": "code",
   "execution_count": 5,
   "id": "1f9ca05b",
   "metadata": {
    "execution": {
     "iopub.execute_input": "2024-07-13T05:23:43.307039Z",
     "iopub.status.busy": "2024-07-13T05:23:43.306665Z",
     "iopub.status.idle": "2024-07-13T05:23:43.314769Z",
     "shell.execute_reply": "2024-07-13T05:23:43.313683Z"
    },
    "papermill": {
     "duration": 0.02204,
     "end_time": "2024-07-13T05:23:43.316927",
     "exception": false,
     "start_time": "2024-07-13T05:23:43.294887",
     "status": "completed"
    },
    "tags": []
   },
   "outputs": [
    {
     "data": {
      "text/plain": [
       "id                        int64\n",
       "Gender                   object\n",
       "Age                       int64\n",
       "Driving_License           int64\n",
       "Region_Code             float64\n",
       "Previously_Insured        int64\n",
       "Vehicle_Age              object\n",
       "Vehicle_Damage           object\n",
       "Annual_Premium          float64\n",
       "Policy_Sales_Channel    float64\n",
       "Vintage                   int64\n",
       "Response                  int64\n",
       "dtype: object"
      ]
     },
     "execution_count": 5,
     "metadata": {},
     "output_type": "execute_result"
    }
   ],
   "source": [
    "train_data.dtypes"
   ]
  },
  {
   "cell_type": "code",
   "execution_count": 6,
   "id": "f0fefec9",
   "metadata": {
    "execution": {
     "iopub.execute_input": "2024-07-13T05:23:43.340118Z",
     "iopub.status.busy": "2024-07-13T05:23:43.339715Z",
     "iopub.status.idle": "2024-07-13T05:23:44.377507Z",
     "shell.execute_reply": "2024-07-13T05:23:44.376508Z"
    },
    "papermill": {
     "duration": 1.052214,
     "end_time": "2024-07-13T05:23:44.379863",
     "exception": false,
     "start_time": "2024-07-13T05:23:43.327649",
     "status": "completed"
    },
    "tags": []
   },
   "outputs": [
    {
     "data": {
      "text/plain": [
       "11504798"
      ]
     },
     "execution_count": 6,
     "metadata": {},
     "output_type": "execute_result"
    }
   ],
   "source": [
    "train_data.id.nunique()"
   ]
  },
  {
   "cell_type": "code",
   "execution_count": 7,
   "id": "e23aaa38",
   "metadata": {
    "execution": {
     "iopub.execute_input": "2024-07-13T05:23:44.403273Z",
     "iopub.status.busy": "2024-07-13T05:23:44.402887Z",
     "iopub.status.idle": "2024-07-13T05:23:45.038722Z",
     "shell.execute_reply": "2024-07-13T05:23:45.037612Z"
    },
    "papermill": {
     "duration": 0.650556,
     "end_time": "2024-07-13T05:23:45.041253",
     "exception": false,
     "start_time": "2024-07-13T05:23:44.390697",
     "status": "completed"
    },
    "tags": []
   },
   "outputs": [],
   "source": [
    "train_data.drop(columns = [\"id\"], inplace = True)"
   ]
  },
  {
   "cell_type": "markdown",
   "id": "a195790e",
   "metadata": {
    "papermill": {
     "duration": 0.010568,
     "end_time": "2024-07-13T05:23:45.062743",
     "exception": false,
     "start_time": "2024-07-13T05:23:45.052175",
     "status": "completed"
    },
    "tags": []
   },
   "source": [
    "## let's inspect the variable values"
   ]
  },
  {
   "cell_type": "code",
   "execution_count": 8,
   "id": "d3a108fa",
   "metadata": {
    "execution": {
     "iopub.execute_input": "2024-07-13T05:23:45.087374Z",
     "iopub.status.busy": "2024-07-13T05:23:45.086915Z",
     "iopub.status.idle": "2024-07-13T05:23:51.093255Z",
     "shell.execute_reply": "2024-07-13T05:23:51.092016Z"
    },
    "papermill": {
     "duration": 6.02099,
     "end_time": "2024-07-13T05:23:51.095582",
     "exception": false,
     "start_time": "2024-07-13T05:23:45.074592",
     "status": "completed"
    },
    "tags": []
   },
   "outputs": [
    {
     "name": "stdout",
     "output_type": "stream",
     "text": [
      "Gender: ['Male' 'Female'] | 2\n",
      "\n",
      "Age: [21 43 25 35 36 31 23 47 26 66 22 27 24 79 34 20 42 40 50 67] | 66\n",
      "\n",
      "Driving_License: [1 0] | 2\n",
      "\n",
      "Region_Code: [35. 28. 14.  1. 15. 47. 45.  8. 11.  3. 10. 12. 37. 50. 30. 46. 29. 16.\n",
      " 26. 25.] | 54\n",
      "\n",
      "Previously_Insured: [0 1] | 2\n",
      "\n",
      "Vehicle_Age: ['1-2 Year' '> 2 Years' '< 1 Year'] | 3\n",
      "\n",
      "Vehicle_Damage: ['Yes' 'No'] | 2\n",
      "\n",
      "Annual_Premium: [65101. 58911. 38043.  2630. 31951. 28150. 27128. 40659. 31639. 27996.\n",
      " 38104. 43746. 23692. 66887. 30226. 36389. 25769. 40797. 29698. 27677.] | 51728\n",
      "\n",
      "Policy_Sales_Channel: [124.  26. 152. 156. 160.   8.  31. 157.  60. 122.  15.  30. 147.   1.\n",
      "  63. 136. 154.  18. 135. 151.] | 152\n",
      "\n",
      "Vintage: [187 288 254  76 294 197 190 262  36 125 215  30 203 259 245 150 240 242\n",
      " 117 151] | 290\n",
      "\n",
      "Response: [0 1] | 2\n",
      "\n"
     ]
    }
   ],
   "source": [
    "for var in train_data.columns:\n",
    "    print(f\"{var}: {train_data[var].unique()[:20]} | {train_data[var].nunique()}\\n\")"
   ]
  },
  {
   "cell_type": "code",
   "execution_count": 9,
   "id": "5bb8c411",
   "metadata": {
    "execution": {
     "iopub.execute_input": "2024-07-13T05:23:51.120371Z",
     "iopub.status.busy": "2024-07-13T05:23:51.119582Z",
     "iopub.status.idle": "2024-07-13T05:23:51.824981Z",
     "shell.execute_reply": "2024-07-13T05:23:51.823797Z"
    },
    "papermill": {
     "duration": 0.720451,
     "end_time": "2024-07-13T05:23:51.827480",
     "exception": false,
     "start_time": "2024-07-13T05:23:51.107029",
     "status": "completed"
    },
    "tags": []
   },
   "outputs": [
    {
     "name": "stdout",
     "output_type": "stream",
     "text": [
      "There are 7 continuous variables\n",
      "There are 3 categorical variables\n"
     ]
    }
   ],
   "source": [
    "continuous = list(train_data.select_dtypes(exclude = \"O\").columns)[:-1]\n",
    "\n",
    "categorical = list(train_data.select_dtypes(include = \"O\").columns)\n",
    "\n",
    "\n",
    "print('There are {} continuous variables'.format(len(continuous)))\n",
    "print('There are {} categorical variables'.format(len(categorical)))"
   ]
  },
  {
   "cell_type": "code",
   "execution_count": 10,
   "id": "cfb5d583",
   "metadata": {
    "execution": {
     "iopub.execute_input": "2024-07-13T05:23:51.852021Z",
     "iopub.status.busy": "2024-07-13T05:23:51.851614Z",
     "iopub.status.idle": "2024-07-13T05:23:51.858516Z",
     "shell.execute_reply": "2024-07-13T05:23:51.857500Z"
    },
    "papermill": {
     "duration": 0.021787,
     "end_time": "2024-07-13T05:23:51.860632",
     "exception": false,
     "start_time": "2024-07-13T05:23:51.838845",
     "status": "completed"
    },
    "tags": []
   },
   "outputs": [
    {
     "data": {
      "text/plain": [
       "['Age',\n",
       " 'Driving_License',\n",
       " 'Region_Code',\n",
       " 'Previously_Insured',\n",
       " 'Annual_Premium',\n",
       " 'Policy_Sales_Channel',\n",
       " 'Vintage']"
      ]
     },
     "execution_count": 10,
     "metadata": {},
     "output_type": "execute_result"
    }
   ],
   "source": [
    "continuous"
   ]
  },
  {
   "cell_type": "code",
   "execution_count": 11,
   "id": "dc69bb82",
   "metadata": {
    "execution": {
     "iopub.execute_input": "2024-07-13T05:23:51.885465Z",
     "iopub.status.busy": "2024-07-13T05:23:51.885070Z",
     "iopub.status.idle": "2024-07-13T05:23:51.891391Z",
     "shell.execute_reply": "2024-07-13T05:23:51.890431Z"
    },
    "papermill": {
     "duration": 0.021272,
     "end_time": "2024-07-13T05:23:51.893557",
     "exception": false,
     "start_time": "2024-07-13T05:23:51.872285",
     "status": "completed"
    },
    "tags": []
   },
   "outputs": [
    {
     "data": {
      "text/plain": [
       "['Gender', 'Vehicle_Age', 'Vehicle_Damage']"
      ]
     },
     "execution_count": 11,
     "metadata": {},
     "output_type": "execute_result"
    }
   ],
   "source": [
    "categorical"
   ]
  },
  {
   "cell_type": "markdown",
   "id": "fe999d1e",
   "metadata": {
    "papermill": {
     "duration": 0.011364,
     "end_time": "2024-07-13T05:23:51.916942",
     "exception": false,
     "start_time": "2024-07-13T05:23:51.905578",
     "status": "completed"
    },
    "tags": []
   },
   "source": [
    "# Variable characteristics"
   ]
  },
  {
   "cell_type": "markdown",
   "id": "7ab1ea94",
   "metadata": {
    "papermill": {
     "duration": 0.011388,
     "end_time": "2024-07-13T05:23:51.940349",
     "exception": false,
     "start_time": "2024-07-13T05:23:51.928961",
     "status": "completed"
    },
    "tags": []
   },
   "source": [
    "### missing data"
   ]
  },
  {
   "cell_type": "code",
   "execution_count": 12,
   "id": "ffa8199b",
   "metadata": {
    "execution": {
     "iopub.execute_input": "2024-07-13T05:23:51.965451Z",
     "iopub.status.busy": "2024-07-13T05:23:51.965063Z",
     "iopub.status.idle": "2024-07-13T05:23:53.658770Z",
     "shell.execute_reply": "2024-07-13T05:23:53.657754Z"
    },
    "papermill": {
     "duration": 1.708858,
     "end_time": "2024-07-13T05:23:53.661007",
     "exception": false,
     "start_time": "2024-07-13T05:23:51.952149",
     "status": "completed"
    },
    "tags": []
   },
   "outputs": [
    {
     "data": {
      "text/plain": [
       "Gender                  0.0\n",
       "Age                     0.0\n",
       "Driving_License         0.0\n",
       "Region_Code             0.0\n",
       "Previously_Insured      0.0\n",
       "Vehicle_Age             0.0\n",
       "Vehicle_Damage          0.0\n",
       "Annual_Premium          0.0\n",
       "Policy_Sales_Channel    0.0\n",
       "Vintage                 0.0\n",
       "Response                0.0\n",
       "dtype: float64"
      ]
     },
     "execution_count": 12,
     "metadata": {},
     "output_type": "execute_result"
    }
   ],
   "source": [
    "train_data.isnull().mean()"
   ]
  },
  {
   "cell_type": "markdown",
   "id": "4c934cc8",
   "metadata": {
    "papermill": {
     "duration": 0.011293,
     "end_time": "2024-07-13T05:23:53.684012",
     "exception": false,
     "start_time": "2024-07-13T05:23:53.672719",
     "status": "completed"
    },
    "tags": []
   },
   "source": [
    "There is no missing data."
   ]
  },
  {
   "cell_type": "markdown",
   "id": "da1b386a",
   "metadata": {
    "papermill": {
     "duration": 0.011916,
     "end_time": "2024-07-13T05:23:53.707455",
     "exception": false,
     "start_time": "2024-07-13T05:23:53.695539",
     "status": "completed"
    },
    "tags": []
   },
   "source": [
    "### cardinality (number of different categories)"
   ]
  },
  {
   "cell_type": "code",
   "execution_count": 13,
   "id": "4b075c5f",
   "metadata": {
    "execution": {
     "iopub.execute_input": "2024-07-13T05:23:53.732481Z",
     "iopub.status.busy": "2024-07-13T05:23:53.732087Z",
     "iopub.status.idle": "2024-07-13T05:23:56.431069Z",
     "shell.execute_reply": "2024-07-13T05:23:56.430082Z"
    },
    "papermill": {
     "duration": 2.714201,
     "end_time": "2024-07-13T05:23:56.433305",
     "exception": false,
     "start_time": "2024-07-13T05:23:53.719104",
     "status": "completed"
    },
    "tags": []
   },
   "outputs": [
    {
     "data": {
      "text/plain": [
       "Gender            2\n",
       "Vehicle_Age       3\n",
       "Vehicle_Damage    2\n",
       "dtype: int64"
      ]
     },
     "execution_count": 13,
     "metadata": {},
     "output_type": "execute_result"
    }
   ],
   "source": [
    "train_data[categorical].nunique()"
   ]
  },
  {
   "cell_type": "markdown",
   "id": "b3c5c471",
   "metadata": {
    "papermill": {
     "duration": 0.012029,
     "end_time": "2024-07-13T05:23:56.457471",
     "exception": false,
     "start_time": "2024-07-13T05:23:56.445442",
     "status": "completed"
    },
    "tags": []
   },
   "source": [
    "there is no variable with highly cardinal."
   ]
  },
  {
   "cell_type": "markdown",
   "id": "aa2d3342",
   "metadata": {
    "papermill": {
     "duration": 0.011357,
     "end_time": "2024-07-13T05:23:56.480567",
     "exception": false,
     "start_time": "2024-07-13T05:23:56.469210",
     "status": "completed"
    },
    "tags": []
   },
   "source": [
    "### outliers"
   ]
  },
  {
   "cell_type": "code",
   "execution_count": 14,
   "id": "f3231812",
   "metadata": {
    "execution": {
     "iopub.execute_input": "2024-07-13T05:23:56.562130Z",
     "iopub.status.busy": "2024-07-13T05:23:56.561162Z",
     "iopub.status.idle": "2024-07-13T05:25:45.306393Z",
     "shell.execute_reply": "2024-07-13T05:25:45.305275Z"
    },
    "papermill": {
     "duration": 108.830465,
     "end_time": "2024-07-13T05:25:45.322807",
     "exception": false,
     "start_time": "2024-07-13T05:23:56.492342",
     "status": "completed"
    },
    "tags": []
   },
   "outputs": [
    {
     "data": {
      "image/png": "[encoded data removed]",
      "text/plain": [
       "<Figure size 1000x2800 with 7 Axes>"
      ]
     },
     "metadata": {},
     "output_type": "display_data"
    }
   ],
   "source": [
    "num_cols = len(continuous)\n",
    "fig, axes = plt.subplots(num_cols, 1, figsize=(10, 4 * num_cols))\n",
    "\n",
    "for i, col in enumerate(continuous):\n",
    "    train_data.boxplot(column=col, ax=axes[i])\n",
    "    axes[i].set_title(f'Boxplot of {col}')\n",
    "    axes[i].set_xlabel('')  \n",
    "    axes[i].set_ylabel('Values')\n",
    "\n",
    "plt.tight_layout()\n",
    "plt.show()"
   ]
  },
  {
   "cell_type": "markdown",
   "id": "a23c452c",
   "metadata": {
    "papermill": {
     "duration": 0.013167,
     "end_time": "2024-07-13T05:25:45.349567",
     "exception": false,
     "start_time": "2024-07-13T05:25:45.336400",
     "status": "completed"
    },
    "tags": []
   },
   "source": [
    "### feature magnitude"
   ]
  },
  {
   "cell_type": "code",
   "execution_count": 15,
   "id": "7bd0c57a",
   "metadata": {
    "execution": {
     "iopub.execute_input": "2024-07-13T05:25:45.378225Z",
     "iopub.status.busy": "2024-07-13T05:25:45.377851Z",
     "iopub.status.idle": "2024-07-13T05:25:48.796781Z",
     "shell.execute_reply": "2024-07-13T05:25:48.795805Z"
    },
    "papermill": {
     "duration": 3.436014,
     "end_time": "2024-07-13T05:25:48.799090",
     "exception": false,
     "start_time": "2024-07-13T05:25:45.363076",
     "status": "completed"
    },
    "tags": []
   },
   "outputs": [
    {
     "data": {
      "text/html": [
       "<div>\n",
       "<style scoped>\n",
       "    .dataframe tbody tr th:only-of-type {\n",
       "        vertical-align: middle;\n",
       "    }\n",
       "\n",
       "    .dataframe tbody tr th {\n",
       "        vertical-align: top;\n",
       "    }\n",
       "\n",
       "    .dataframe thead th {\n",
       "        text-align: right;\n",
       "    }\n",
       "</style>\n",
       "<table border=\"1\" class=\"dataframe\">\n",
       "  <thead>\n",
       "    <tr style=\"text-align: right;\">\n",
       "      <th></th>\n",
       "      <th>Age</th>\n",
       "      <th>Driving_License</th>\n",
       "      <th>Region_Code</th>\n",
       "      <th>Previously_Insured</th>\n",
       "      <th>Annual_Premium</th>\n",
       "      <th>Policy_Sales_Channel</th>\n",
       "      <th>Vintage</th>\n",
       "      <th>Response</th>\n",
       "    </tr>\n",
       "  </thead>\n",
       "  <tbody>\n",
       "    <tr>\n",
       "      <th>count</th>\n",
       "      <td>1.150480e+07</td>\n",
       "      <td>1.150480e+07</td>\n",
       "      <td>1.150480e+07</td>\n",
       "      <td>1.150480e+07</td>\n",
       "      <td>1.150480e+07</td>\n",
       "      <td>1.150480e+07</td>\n",
       "      <td>1.150480e+07</td>\n",
       "      <td>1.150480e+07</td>\n",
       "    </tr>\n",
       "    <tr>\n",
       "      <th>mean</th>\n",
       "      <td>3.838356e+01</td>\n",
       "      <td>9.980220e-01</td>\n",
       "      <td>2.641869e+01</td>\n",
       "      <td>4.629966e-01</td>\n",
       "      <td>3.046137e+04</td>\n",
       "      <td>1.124254e+02</td>\n",
       "      <td>1.638977e+02</td>\n",
       "      <td>1.229973e-01</td>\n",
       "    </tr>\n",
       "    <tr>\n",
       "      <th>std</th>\n",
       "      <td>1.499346e+01</td>\n",
       "      <td>4.443120e-02</td>\n",
       "      <td>1.299159e+01</td>\n",
       "      <td>4.986289e-01</td>\n",
       "      <td>1.645475e+04</td>\n",
       "      <td>5.403571e+01</td>\n",
       "      <td>7.997953e+01</td>\n",
       "      <td>3.284341e-01</td>\n",
       "    </tr>\n",
       "    <tr>\n",
       "      <th>min</th>\n",
       "      <td>2.000000e+01</td>\n",
       "      <td>0.000000e+00</td>\n",
       "      <td>0.000000e+00</td>\n",
       "      <td>0.000000e+00</td>\n",
       "      <td>2.630000e+03</td>\n",
       "      <td>1.000000e+00</td>\n",
       "      <td>1.000000e+01</td>\n",
       "      <td>0.000000e+00</td>\n",
       "    </tr>\n",
       "    <tr>\n",
       "      <th>25%</th>\n",
       "      <td>2.400000e+01</td>\n",
       "      <td>1.000000e+00</td>\n",
       "      <td>1.500000e+01</td>\n",
       "      <td>0.000000e+00</td>\n",
       "      <td>2.527700e+04</td>\n",
       "      <td>2.900000e+01</td>\n",
       "      <td>9.900000e+01</td>\n",
       "      <td>0.000000e+00</td>\n",
       "    </tr>\n",
       "    <tr>\n",
       "      <th>50%</th>\n",
       "      <td>3.600000e+01</td>\n",
       "      <td>1.000000e+00</td>\n",
       "      <td>2.800000e+01</td>\n",
       "      <td>0.000000e+00</td>\n",
       "      <td>3.182400e+04</td>\n",
       "      <td>1.510000e+02</td>\n",
       "      <td>1.660000e+02</td>\n",
       "      <td>0.000000e+00</td>\n",
       "    </tr>\n",
       "    <tr>\n",
       "      <th>75%</th>\n",
       "      <td>4.900000e+01</td>\n",
       "      <td>1.000000e+00</td>\n",
       "      <td>3.500000e+01</td>\n",
       "      <td>1.000000e+00</td>\n",
       "      <td>3.945100e+04</td>\n",
       "      <td>1.520000e+02</td>\n",
       "      <td>2.320000e+02</td>\n",
       "      <td>0.000000e+00</td>\n",
       "    </tr>\n",
       "    <tr>\n",
       "      <th>max</th>\n",
       "      <td>8.500000e+01</td>\n",
       "      <td>1.000000e+00</td>\n",
       "      <td>5.200000e+01</td>\n",
       "      <td>1.000000e+00</td>\n",
       "      <td>5.401650e+05</td>\n",
       "      <td>1.630000e+02</td>\n",
       "      <td>2.990000e+02</td>\n",
       "      <td>1.000000e+00</td>\n",
       "    </tr>\n",
       "  </tbody>\n",
       "</table>\n",
       "</div>"
      ],
      "text/plain": [
       "                Age  Driving_License   Region_Code  Previously_Insured  \\\n",
       "count  1.150480e+07     1.150480e+07  1.150480e+07        1.150480e+07   \n",
       "mean   3.838356e+01     9.980220e-01  2.641869e+01        4.629966e-01   \n",
       "std    1.499346e+01     4.443120e-02  1.299159e+01        4.986289e-01   \n",
       "min    2.000000e+01     0.000000e+00  0.000000e+00        0.000000e+00   \n",
       "25%    2.400000e+01     1.000000e+00  1.500000e+01        0.000000e+00   \n",
       "50%    3.600000e+01     1.000000e+00  2.800000e+01        0.000000e+00   \n",
       "75%    4.900000e+01     1.000000e+00  3.500000e+01        1.000000e+00   \n",
       "max    8.500000e+01     1.000000e+00  5.200000e+01        1.000000e+00   \n",
       "\n",
       "       Annual_Premium  Policy_Sales_Channel       Vintage      Response  \n",
       "count    1.150480e+07          1.150480e+07  1.150480e+07  1.150480e+07  \n",
       "mean     3.046137e+04          1.124254e+02  1.638977e+02  1.229973e-01  \n",
       "std      1.645475e+04          5.403571e+01  7.997953e+01  3.284341e-01  \n",
       "min      2.630000e+03          1.000000e+00  1.000000e+01  0.000000e+00  \n",
       "25%      2.527700e+04          2.900000e+01  9.900000e+01  0.000000e+00  \n",
       "50%      3.182400e+04          1.510000e+02  1.660000e+02  0.000000e+00  \n",
       "75%      3.945100e+04          1.520000e+02  2.320000e+02  0.000000e+00  \n",
       "max      5.401650e+05          1.630000e+02  2.990000e+02  1.000000e+00  "
      ]
     },
     "execution_count": 15,
     "metadata": {},
     "output_type": "execute_result"
    }
   ],
   "source": [
    "train_data.describe()"
   ]
  },
  {
   "cell_type": "markdown",
   "id": "bfee1584",
   "metadata": {
    "papermill": {
     "duration": 0.013589,
     "end_time": "2024-07-13T05:25:48.826679",
     "exception": false,
     "start_time": "2024-07-13T05:25:48.813090",
     "status": "completed"
    },
    "tags": []
   },
   "source": [
    "# Split the data"
   ]
  },
  {
   "cell_type": "code",
   "execution_count": 16,
   "id": "811e03d6",
   "metadata": {
    "execution": {
     "iopub.execute_input": "2024-07-13T05:25:48.856297Z",
     "iopub.status.busy": "2024-07-13T05:25:48.855494Z",
     "iopub.status.idle": "2024-07-13T05:25:55.995408Z",
     "shell.execute_reply": "2024-07-13T05:25:55.994384Z"
    },
    "papermill": {
     "duration": 7.157196,
     "end_time": "2024-07-13T05:25:55.997671",
     "exception": false,
     "start_time": "2024-07-13T05:25:48.840475",
     "status": "completed"
    },
    "tags": []
   },
   "outputs": [
    {
     "data": {
      "text/plain": [
       "((8053358, 10), (3451440, 10))"
      ]
     },
     "execution_count": 16,
     "metadata": {},
     "output_type": "execute_result"
    }
   ],
   "source": [
    "X_train, X_test, y_train, y_test = train_test_split(\n",
    "    train_data.drop('Response', axis=1),  # predictors\n",
    "    train_data['Response'],  # target\n",
    "    test_size=0.3,  # percentage of obs in test set\n",
    "    random_state=0)  # seed to ensure reproducibility\n",
    "\n",
    "X_train.shape, X_test.shape"
   ]
  },
  {
   "cell_type": "markdown",
   "id": "448ebdf5",
   "metadata": {
    "papermill": {
     "duration": 0.01378,
     "end_time": "2024-07-13T05:25:56.025650",
     "exception": false,
     "start_time": "2024-07-13T05:25:56.011870",
     "status": "completed"
    },
    "tags": []
   },
   "source": [
    "# Categorical encoding and rare labels"
   ]
  },
  {
   "cell_type": "code",
   "execution_count": 17,
   "id": "463ea375",
   "metadata": {
    "execution": {
     "iopub.execute_input": "2024-07-13T05:25:56.055613Z",
     "iopub.status.busy": "2024-07-13T05:25:56.054814Z",
     "iopub.status.idle": "2024-07-13T05:25:58.007467Z",
     "shell.execute_reply": "2024-07-13T05:25:58.006390Z"
    },
    "papermill": {
     "duration": 1.970069,
     "end_time": "2024-07-13T05:25:58.009748",
     "exception": false,
     "start_time": "2024-07-13T05:25:56.039679",
     "status": "completed"
    },
    "tags": []
   },
   "outputs": [
    {
     "data": {
      "text/plain": [
       "Gender            2\n",
       "Vehicle_Age       3\n",
       "Vehicle_Damage    2\n",
       "dtype: int64"
      ]
     },
     "execution_count": 17,
     "metadata": {},
     "output_type": "execute_result"
    }
   ],
   "source": [
    "X_train[categorical].nunique()"
   ]
  },
  {
   "cell_type": "code",
   "execution_count": 18,
   "id": "c9a6cf99",
   "metadata": {
    "execution": {
     "iopub.execute_input": "2024-07-13T05:25:58.040260Z",
     "iopub.status.busy": "2024-07-13T05:25:58.039846Z",
     "iopub.status.idle": "2024-07-13T05:25:59.841021Z",
     "shell.execute_reply": "2024-07-13T05:25:59.839888Z"
    },
    "papermill": {
     "duration": 1.81908,
     "end_time": "2024-07-13T05:25:59.843422",
     "exception": false,
     "start_time": "2024-07-13T05:25:58.024342",
     "status": "completed"
    },
    "tags": []
   },
   "outputs": [
    {
     "name": "stdout",
     "output_type": "stream",
     "text": [
      "Gender\n",
      "Female    0.458656\n",
      "Male      0.541344\n",
      "Name: proportion, dtype: float64\n",
      "Vehicle_Age\n",
      "> 2 Years    0.041525\n",
      "< 1 Year     0.438591\n",
      "1-2 Year     0.519883\n",
      "Name: proportion, dtype: float64\n",
      "Vehicle_Damage\n",
      "No     0.497505\n",
      "Yes    0.502495\n",
      "Name: proportion, dtype: float64\n"
     ]
    }
   ],
   "source": [
    "for var in categorical:\n",
    "    print(X_train[var].value_counts(normalize=True).sort_values())"
   ]
  },
  {
   "cell_type": "markdown",
   "id": "58fe5517",
   "metadata": {
    "papermill": {
     "duration": 0.01416,
     "end_time": "2024-07-13T05:25:59.871973",
     "exception": false,
     "start_time": "2024-07-13T05:25:59.857813",
     "status": "completed"
    },
    "tags": []
   },
   "source": [
    "### Ordered-Ordinal-Encoding"
   ]
  },
  {
   "cell_type": "code",
   "execution_count": 19,
   "id": "2c8f8b66",
   "metadata": {
    "execution": {
     "iopub.execute_input": "2024-07-13T05:25:59.902138Z",
     "iopub.status.busy": "2024-07-13T05:25:59.901742Z",
     "iopub.status.idle": "2024-07-13T05:25:59.908354Z",
     "shell.execute_reply": "2024-07-13T05:25:59.907239Z"
    },
    "papermill": {
     "duration": 0.024297,
     "end_time": "2024-07-13T05:25:59.910515",
     "exception": false,
     "start_time": "2024-07-13T05:25:59.886218",
     "status": "completed"
    },
    "tags": []
   },
   "outputs": [],
   "source": [
    "def find_category_mappings(df, variable, target):\n",
    "\n",
    "    # first  we generate an ordered list with the labels\n",
    "    ordered_labels = target.groupby(df[variable]).mean().sort_values().index\n",
    "\n",
    "    # return the dictionary with mappings\n",
    "    return {k: i for i, k in enumerate(ordered_labels, 0)}\n",
    "\n",
    "\n",
    "def integer_encode(train, test, variable, ordinal_mapping):\n",
    "\n",
    "    train[variable] = train[variable].map(ordinal_mapping)\n",
    "    test[variable] = test[variable].map(ordinal_mapping)"
   ]
  },
  {
   "cell_type": "code",
   "execution_count": 20,
   "id": "cda58342",
   "metadata": {
    "execution": {
     "iopub.execute_input": "2024-07-13T05:25:59.940731Z",
     "iopub.status.busy": "2024-07-13T05:25:59.940088Z",
     "iopub.status.idle": "2024-07-13T05:26:04.917158Z",
     "shell.execute_reply": "2024-07-13T05:26:04.916127Z"
    },
    "papermill": {
     "duration": 4.995118,
     "end_time": "2024-07-13T05:26:04.919796",
     "exception": false,
     "start_time": "2024-07-13T05:25:59.924678",
     "status": "completed"
    },
    "tags": []
   },
   "outputs": [],
   "source": [
    "mappings_list = []\n",
    "\n",
    "for variable in categorical:\n",
    "\n",
    "    mappings = find_category_mappings(X_train, variable, y_train)\n",
    "    \n",
    "    mappings_list.append(mappings)\n",
    "\n",
    "    integer_encode(X_train, X_test, variable, mappings)"
   ]
  },
  {
   "cell_type": "code",
   "execution_count": 21,
   "id": "c8bd33e9",
   "metadata": {
    "execution": {
     "iopub.execute_input": "2024-07-13T05:26:04.949992Z",
     "iopub.status.busy": "2024-07-13T05:26:04.949592Z",
     "iopub.status.idle": "2024-07-13T05:26:04.956082Z",
     "shell.execute_reply": "2024-07-13T05:26:04.955128Z"
    },
    "papermill": {
     "duration": 0.023914,
     "end_time": "2024-07-13T05:26:04.958203",
     "exception": false,
     "start_time": "2024-07-13T05:26:04.934289",
     "status": "completed"
    },
    "tags": []
   },
   "outputs": [
    {
     "data": {
      "text/plain": [
       "[{'Female': 0, 'Male': 1},\n",
       " {'< 1 Year': 0, '1-2 Year': 1, '> 2 Years': 2},\n",
       " {'No': 0, 'Yes': 1}]"
      ]
     },
     "execution_count": 21,
     "metadata": {},
     "output_type": "execute_result"
    }
   ],
   "source": [
    "mappings_list"
   ]
  },
  {
   "cell_type": "markdown",
   "id": "44373bac",
   "metadata": {
    "papermill": {
     "duration": 0.014729,
     "end_time": "2024-07-13T05:26:04.987367",
     "exception": false,
     "start_time": "2024-07-13T05:26:04.972638",
     "status": "completed"
    },
    "tags": []
   },
   "source": [
    "# Discretisation or Variable transformation"
   ]
  },
  {
   "cell_type": "code",
   "execution_count": 22,
   "id": "14ad1ef2",
   "metadata": {
    "execution": {
     "iopub.execute_input": "2024-07-13T05:26:05.017754Z",
     "iopub.status.busy": "2024-07-13T05:26:05.017374Z",
     "iopub.status.idle": "2024-07-13T05:26:10.281394Z",
     "shell.execute_reply": "2024-07-13T05:26:10.280255Z"
    },
    "papermill": {
     "duration": 5.281934,
     "end_time": "2024-07-13T05:26:10.283828",
     "exception": false,
     "start_time": "2024-07-13T05:26:05.001894",
     "status": "completed"
    },
    "tags": []
   },
   "outputs": [
    {
     "data": {
      "image/png": "[encoded data removed]",
      "text/plain": [
       "<Figure size 800x800 with 12 Axes>"
      ]
     },
     "metadata": {},
     "output_type": "display_data"
    }
   ],
   "source": [
    "X_train.select_dtypes(exclude='O').hist(bins=30, figsize=(8,8))\n",
    "plt.show()"
   ]
  },
  {
   "cell_type": "markdown",
   "id": "e2a4288e",
   "metadata": {
    "papermill": {
     "duration": 0.015729,
     "end_time": "2024-07-13T05:26:10.315331",
     "exception": false,
     "start_time": "2024-07-13T05:26:10.299602",
     "status": "completed"
    },
    "tags": []
   },
   "source": [
    "For decision trees, the variable distribution is not so important, so in principle, we don't need to change it. Also decision trees are robust to outliers."
   ]
  },
  {
   "cell_type": "markdown",
   "id": "88509c03",
   "metadata": {
    "papermill": {
     "duration": 0.014874,
     "end_time": "2024-07-13T05:26:10.345410",
     "exception": false,
     "start_time": "2024-07-13T05:26:10.330536",
     "status": "completed"
    },
    "tags": []
   },
   "source": [
    "# Model"
   ]
  },
  {
   "cell_type": "code",
   "execution_count": 23,
   "id": "16199136",
   "metadata": {
    "execution": {
     "iopub.execute_input": "2024-07-13T05:26:10.377378Z",
     "iopub.status.busy": "2024-07-13T05:26:10.376994Z",
     "iopub.status.idle": "2024-07-13T05:26:59.485156Z",
     "shell.execute_reply": "2024-07-13T05:26:59.484194Z"
    },
    "papermill": {
     "duration": 49.143129,
     "end_time": "2024-07-13T05:26:59.503672",
     "exception": false,
     "start_time": "2024-07-13T05:26:10.360543",
     "status": "completed"
    },
    "tags": []
   },
   "outputs": [
    {
     "data": {
      "text/html": [
       "<style>#sk-container-id-1 {color: black;background-color: white;}#sk-container-id-1 pre{padding: 0;}#sk-container-id-1 div.sk-toggleable {background-color: white;}#sk-container-id-1 label.sk-toggleable__label {cursor: pointer;display: block;width: 100%;margin-bottom: 0;padding: 0.3em;box-sizing: border-box;text-align: center;}#sk-container-id-1 label.sk-toggleable__label-arrow:before {content: \"▸\";float: left;margin-right: 0.25em;color: #696969;}#sk-container-id-1 label.sk-toggleable__label-arrow:hover:before {color: black;}#sk-container-id-1 div.sk-estimator:hover label.sk-toggleable__label-arrow:before {color: black;}#sk-container-id-1 div.sk-toggleable__content {max-height: 0;max-width: 0;overflow: hidden;text-align: left;background-color: #f0f8ff;}#sk-container-id-1 div.sk-toggleable__content pre {margin: 0.2em;color: black;border-radius: 0.25em;background-color: #f0f8ff;}#sk-container-id-1 input.sk-toggleable__control:checked~div.sk-toggleable__content {max-height: 200px;max-width: 100%;overflow: auto;}#sk-container-id-1 input.sk-toggleable__control:checked~label.sk-toggleable__label-arrow:before {content: \"▾\";}#sk-container-id-1 div.sk-estimator input.sk-toggleable__control:checked~label.sk-toggleable__label {background-color: #d4ebff;}#sk-container-id-1 div.sk-label input.sk-toggleable__control:checked~label.sk-toggleable__label {background-color: #d4ebff;}#sk-container-id-1 input.sk-hidden--visually {border: 0;clip: rect(1px 1px 1px 1px);clip: rect(1px, 1px, 1px, 1px);height: 1px;margin: -1px;overflow: hidden;padding: 0;position: absolute;width: 1px;}#sk-container-id-1 div.sk-estimator {font-family: monospace;background-color: #f0f8ff;border: 1px dotted black;border-radius: 0.25em;box-sizing: border-box;margin-bottom: 0.5em;}#sk-container-id-1 div.sk-estimator:hover {background-color: #d4ebff;}#sk-container-id-1 div.sk-parallel-item::after {content: \"\";width: 100%;border-bottom: 1px solid gray;flex-grow: 1;}#sk-container-id-1 div.sk-label:hover label.sk-toggleable__label {background-color: #d4ebff;}#sk-container-id-1 div.sk-serial::before {content: \"\";position: absolute;border-left: 1px solid gray;box-sizing: border-box;top: 0;bottom: 0;left: 50%;z-index: 0;}#sk-container-id-1 div.sk-serial {display: flex;flex-direction: column;align-items: center;background-color: white;padding-right: 0.2em;padding-left: 0.2em;position: relative;}#sk-container-id-1 div.sk-item {position: relative;z-index: 1;}#sk-container-id-1 div.sk-parallel {display: flex;align-items: stretch;justify-content: center;background-color: white;position: relative;}#sk-container-id-1 div.sk-item::before, #sk-container-id-1 div.sk-parallel-item::before {content: \"\";position: absolute;border-left: 1px solid gray;box-sizing: border-box;top: 0;bottom: 0;left: 50%;z-index: -1;}#sk-container-id-1 div.sk-parallel-item {display: flex;flex-direction: column;z-index: 1;position: relative;background-color: white;}#sk-container-id-1 div.sk-parallel-item:first-child::after {align-self: flex-end;width: 50%;}#sk-container-id-1 div.sk-parallel-item:last-child::after {align-self: flex-start;width: 50%;}#sk-container-id-1 div.sk-parallel-item:only-child::after {width: 0;}#sk-container-id-1 div.sk-dashed-wrapped {border: 1px dashed gray;margin: 0 0.4em 0.5em 0.4em;box-sizing: border-box;padding-bottom: 0.4em;background-color: white;}#sk-container-id-1 div.sk-label label {font-family: monospace;font-weight: bold;display: inline-block;line-height: 1.2em;}#sk-container-id-1 div.sk-label-container {text-align: center;}#sk-container-id-1 div.sk-container {/* jupyter's `normalize.less` sets `[hidden] { display: none; }` but bootstrap.min.css set `[hidden] { display: none !important; }` so we also need the `!important` here to be able to override the default hidden behavior on the sphinx rendered scikit-learn.org. See: https://github.com/scikit-learn/scikit-learn/issues/21755 */display: inline-block !important;position: relative;}#sk-container-id-1 div.sk-text-repr-fallback {display: none;}</style><div id=\"sk-container-id-1\" class=\"sk-top-container\"><div class=\"sk-text-repr-fallback\"><pre>XGBClassifier(base_score=None, booster=None, callbacks=None,\n",
       "              colsample_bylevel=None, colsample_bynode=None,\n",
       "              colsample_bytree=None, device=None, early_stopping_rounds=None,\n",
       "              enable_categorical=False, eval_metric=None, feature_types=None,\n",
       "              gamma=None, grow_policy=None, importance_type=None,\n",
       "              interaction_constraints=None, learning_rate=None, max_bin=None,\n",
       "              max_cat_threshold=None, max_cat_to_onehot=None,\n",
       "              max_delta_step=None, max_depth=None, max_leaves=None,\n",
       "              min_child_weight=None, missing=nan, monotone_constraints=None,\n",
       "              multi_strategy=None, n_estimators=None, n_jobs=None,\n",
       "              num_parallel_tree=None, random_state=0, ...)</pre><b>In a Jupyter environment, please rerun this cell to show the HTML representation or trust the notebook. <br />On GitHub, the HTML representation is unable to render, please try loading this page with nbviewer.org.</b></div><div class=\"sk-container\" hidden><div class=\"sk-item\"><div class=\"sk-estimator sk-toggleable\"><input class=\"sk-toggleable__control sk-hidden--visually\" id=\"sk-estimator-id-1\" type=\"checkbox\" checked><label for=\"sk-estimator-id-1\" class=\"sk-toggleable__label sk-toggleable__label-arrow\">XGBClassifier</label><div class=\"sk-toggleable__content\"><pre>XGBClassifier(base_score=None, booster=None, callbacks=None,\n",
       "              colsample_bylevel=None, colsample_bynode=None,\n",
       "              colsample_bytree=None, device=None, early_stopping_rounds=None,\n",
       "              enable_categorical=False, eval_metric=None, feature_types=None,\n",
       "              gamma=None, grow_policy=None, importance_type=None,\n",
       "              interaction_constraints=None, learning_rate=None, max_bin=None,\n",
       "              max_cat_threshold=None, max_cat_to_onehot=None,\n",
       "              max_delta_step=None, max_depth=None, max_leaves=None,\n",
       "              min_child_weight=None, missing=nan, monotone_constraints=None,\n",
       "              multi_strategy=None, n_estimators=None, n_jobs=None,\n",
       "              num_parallel_tree=None, random_state=0, ...)</pre></div></div></div></div></div>"
      ],
      "text/plain": [
       "XGBClassifier(base_score=None, booster=None, callbacks=None,\n",
       "              colsample_bylevel=None, colsample_bynode=None,\n",
       "              colsample_bytree=None, device=None, early_stopping_rounds=None,\n",
       "              enable_categorical=False, eval_metric=None, feature_types=None,\n",
       "              gamma=None, grow_policy=None, importance_type=None,\n",
       "              interaction_constraints=None, learning_rate=None, max_bin=None,\n",
       "              max_cat_threshold=None, max_cat_to_onehot=None,\n",
       "              max_delta_step=None, max_depth=None, max_leaves=None,\n",
       "              min_child_weight=None, missing=nan, monotone_constraints=None,\n",
       "              multi_strategy=None, n_estimators=None, n_jobs=None,\n",
       "              num_parallel_tree=None, random_state=0, ...)"
      ]
     },
     "execution_count": 23,
     "metadata": {},
     "output_type": "execute_result"
    }
   ],
   "source": [
    "xgb_classifier = XGBClassifier(random_state = 0)\n",
    "\n",
    "xgb_classifier.fit(X_train, y_train)"
   ]
  },
  {
   "cell_type": "code",
   "execution_count": 24,
   "id": "22a326c8",
   "metadata": {
    "execution": {
     "iopub.execute_input": "2024-07-13T05:26:59.537128Z",
     "iopub.status.busy": "2024-07-13T05:26:59.536308Z",
     "iopub.status.idle": "2024-07-13T05:27:10.782215Z",
     "shell.execute_reply": "2024-07-13T05:27:10.781198Z"
    },
    "papermill": {
     "duration": 11.265419,
     "end_time": "2024-07-13T05:27:10.784918",
     "exception": false,
     "start_time": "2024-07-13T05:26:59.519499",
     "status": "completed"
    },
    "tags": []
   },
   "outputs": [],
   "source": [
    "X_train_preds = xgb_classifier.predict_proba(X_train)[:,1]\n",
    "X_test_preds = xgb_classifier.predict_proba(X_test)[:,1]"
   ]
  },
  {
   "cell_type": "code",
   "execution_count": 25,
   "id": "e3d0b09d",
   "metadata": {
    "execution": {
     "iopub.execute_input": "2024-07-13T05:27:10.819137Z",
     "iopub.status.busy": "2024-07-13T05:27:10.818738Z",
     "iopub.status.idle": "2024-07-13T05:27:16.616339Z",
     "shell.execute_reply": "2024-07-13T05:27:16.615002Z"
    },
    "papermill": {
     "duration": 5.816918,
     "end_time": "2024-07-13T05:27:16.618546",
     "exception": false,
     "start_time": "2024-07-13T05:27:10.801628",
     "status": "completed"
    },
    "tags": []
   },
   "outputs": [
    {
     "name": "stdout",
     "output_type": "stream",
     "text": [
      "Train set\n",
      "xgb roc-auc: 0.8792109708857893\n",
      "Test set\n",
      "xgb roc-auc: 0.8782258762613604\n"
     ]
    }
   ],
   "source": [
    "print('Train set')\n",
    "print('xgb roc-auc: {}'.format(roc_auc_score(y_train, X_train_preds)))\n",
    "\n",
    "print('Test set')\n",
    "print('xgb roc-auc: {}'.format(roc_auc_score(y_test, X_test_preds)))"
   ]
  },
  {
   "cell_type": "markdown",
   "id": "b17b3d90",
   "metadata": {
    "papermill": {
     "duration": 0.015696,
     "end_time": "2024-07-13T05:27:16.650454",
     "exception": false,
     "start_time": "2024-07-13T05:27:16.634758",
     "status": "completed"
    },
    "tags": []
   },
   "source": [
    "# let's explore the importance of the features"
   ]
  },
  {
   "cell_type": "code",
   "execution_count": 26,
   "id": "745e926a",
   "metadata": {
    "execution": {
     "iopub.execute_input": "2024-07-13T05:27:16.683814Z",
     "iopub.status.busy": "2024-07-13T05:27:16.683423Z",
     "iopub.status.idle": "2024-07-13T05:27:17.673918Z",
     "shell.execute_reply": "2024-07-13T05:27:17.672970Z"
    },
    "papermill": {
     "duration": 1.01015,
     "end_time": "2024-07-13T05:27:17.676388",
     "exception": false,
     "start_time": "2024-07-13T05:27:16.666238",
     "status": "completed"
    },
    "tags": []
   },
   "outputs": [
    {
     "data": {
      "image/png": "[encoded data removed]",
      "text/plain": [
       "<Figure size 1200x600 with 1 Axes>"
      ]
     },
     "metadata": {},
     "output_type": "display_data"
    }
   ],
   "source": [
    "importance = pd.Series(xgb_classifier.feature_importances_)\n",
    "importance.index = train_data.drop('Response', axis=1).columns\n",
    "importance.sort_values(inplace=True, ascending=False)\n",
    "importance.plot.bar(figsize=(12,6))\n",
    "plt.show()"
   ]
  },
  {
   "cell_type": "markdown",
   "id": "5ce3c332",
   "metadata": {
    "papermill": {
     "duration": 0.016688,
     "end_time": "2024-07-13T05:27:17.709616",
     "exception": false,
     "start_time": "2024-07-13T05:27:17.692928",
     "status": "completed"
    },
    "tags": []
   },
   "source": [
    "# Submission"
   ]
  },
  {
   "cell_type": "code",
   "execution_count": 27,
   "id": "325272dd",
   "metadata": {
    "execution": {
     "iopub.execute_input": "2024-07-13T05:27:17.744405Z",
     "iopub.status.busy": "2024-07-13T05:27:17.744015Z",
     "iopub.status.idle": "2024-07-13T05:27:30.053216Z",
     "shell.execute_reply": "2024-07-13T05:27:30.052116Z"
    },
    "papermill": {
     "duration": 12.329539,
     "end_time": "2024-07-13T05:27:30.055695",
     "exception": false,
     "start_time": "2024-07-13T05:27:17.726156",
     "status": "completed"
    },
    "tags": []
   },
   "outputs": [],
   "source": [
    "test_data = pd.read_csv(\"/kaggle/input/playground-series-s4e7/test.csv\")"
   ]
  },
  {
   "cell_type": "code",
   "execution_count": 28,
   "id": "8abd3ce7",
   "metadata": {
    "execution": {
     "iopub.execute_input": "2024-07-13T05:27:30.091006Z",
     "iopub.status.busy": "2024-07-13T05:27:30.090619Z",
     "iopub.status.idle": "2024-07-13T05:27:30.095737Z",
     "shell.execute_reply": "2024-07-13T05:27:30.094656Z"
    },
    "papermill": {
     "duration": 0.025214,
     "end_time": "2024-07-13T05:27:30.097911",
     "exception": false,
     "start_time": "2024-07-13T05:27:30.072697",
     "status": "completed"
    },
    "tags": []
   },
   "outputs": [],
   "source": [
    "test_ids = test_data['id']"
   ]
  },
  {
   "cell_type": "code",
   "execution_count": 29,
   "id": "b6b0bb5e",
   "metadata": {
    "execution": {
     "iopub.execute_input": "2024-07-13T05:27:30.133003Z",
     "iopub.status.busy": "2024-07-13T05:27:30.132600Z",
     "iopub.status.idle": "2024-07-13T05:27:30.620460Z",
     "shell.execute_reply": "2024-07-13T05:27:30.619412Z"
    },
    "papermill": {
     "duration": 0.508385,
     "end_time": "2024-07-13T05:27:30.622954",
     "exception": false,
     "start_time": "2024-07-13T05:27:30.114569",
     "status": "completed"
    },
    "tags": []
   },
   "outputs": [],
   "source": [
    "test_data.drop(columns = [\"id\"], inplace = True)"
   ]
  },
  {
   "cell_type": "code",
   "execution_count": 30,
   "id": "39343f5e",
   "metadata": {
    "execution": {
     "iopub.execute_input": "2024-07-13T05:27:30.657950Z",
     "iopub.status.busy": "2024-07-13T05:27:30.657569Z",
     "iopub.status.idle": "2024-07-13T05:27:30.664233Z",
     "shell.execute_reply": "2024-07-13T05:27:30.663120Z"
    },
    "papermill": {
     "duration": 0.026784,
     "end_time": "2024-07-13T05:27:30.666350",
     "exception": false,
     "start_time": "2024-07-13T05:27:30.639566",
     "status": "completed"
    },
    "tags": []
   },
   "outputs": [
    {
     "data": {
      "text/plain": [
       "[{'Female': 0, 'Male': 1},\n",
       " {'< 1 Year': 0, '1-2 Year': 1, '> 2 Years': 2},\n",
       " {'No': 0, 'Yes': 1}]"
      ]
     },
     "execution_count": 30,
     "metadata": {},
     "output_type": "execute_result"
    }
   ],
   "source": [
    "mappings_list"
   ]
  },
  {
   "cell_type": "code",
   "execution_count": 31,
   "id": "639fd99a",
   "metadata": {
    "execution": {
     "iopub.execute_input": "2024-07-13T05:27:30.701519Z",
     "iopub.status.busy": "2024-07-13T05:27:30.701116Z",
     "iopub.status.idle": "2024-07-13T05:27:32.429565Z",
     "shell.execute_reply": "2024-07-13T05:27:32.428658Z"
    },
    "papermill": {
     "duration": 1.74929,
     "end_time": "2024-07-13T05:27:32.432151",
     "exception": false,
     "start_time": "2024-07-13T05:27:30.682861",
     "status": "completed"
    },
    "tags": []
   },
   "outputs": [],
   "source": [
    "test_data[\"Gender\"] = test_data[\"Gender\"].map(mappings_list[0])\n",
    "test_data[\"Vehicle_Age\"] = test_data[\"Vehicle_Age\"].map(mappings_list[1])\n",
    "test_data[\"Vehicle_Damage\"] = test_data[\"Vehicle_Damage\"].map(mappings_list[2])"
   ]
  },
  {
   "cell_type": "code",
   "execution_count": 32,
   "id": "76e46d22",
   "metadata": {
    "execution": {
     "iopub.execute_input": "2024-07-13T05:27:32.467819Z",
     "iopub.status.busy": "2024-07-13T05:27:32.466840Z",
     "iopub.status.idle": "2024-07-13T05:27:39.999735Z",
     "shell.execute_reply": "2024-07-13T05:27:39.998700Z"
    },
    "papermill": {
     "duration": 7.553439,
     "end_time": "2024-07-13T05:27:40.002300",
     "exception": false,
     "start_time": "2024-07-13T05:27:32.448861",
     "status": "completed"
    },
    "tags": []
   },
   "outputs": [],
   "source": [
    "predictions_test = xgb_classifier.predict_proba(test_data)[:,1]"
   ]
  },
  {
   "cell_type": "code",
   "execution_count": 33,
   "id": "8f9f98cf",
   "metadata": {
    "execution": {
     "iopub.execute_input": "2024-07-13T05:27:40.037960Z",
     "iopub.status.busy": "2024-07-13T05:27:40.037585Z",
     "iopub.status.idle": "2024-07-13T05:27:40.318809Z",
     "shell.execute_reply": "2024-07-13T05:27:40.317855Z"
    },
    "papermill": {
     "duration": 0.302084,
     "end_time": "2024-07-13T05:27:40.321250",
     "exception": false,
     "start_time": "2024-07-13T05:27:40.019166",
     "status": "completed"
    },
    "tags": []
   },
   "outputs": [],
   "source": [
    "result = pd.DataFrame({'id' : test_ids, 'Response' : predictions_test.flatten()}, \n",
    "                      columns=['id', 'Response'])"
   ]
  },
  {
   "cell_type": "code",
   "execution_count": 34,
   "id": "18ad6f2d",
   "metadata": {
    "execution": {
     "iopub.execute_input": "2024-07-13T05:27:40.356229Z",
     "iopub.status.busy": "2024-07-13T05:27:40.355837Z",
     "iopub.status.idle": "2024-07-13T05:27:53.901112Z",
     "shell.execute_reply": "2024-07-13T05:27:53.899993Z"
    },
    "papermill": {
     "duration": 13.565823,
     "end_time": "2024-07-13T05:27:53.903792",
     "exception": false,
     "start_time": "2024-07-13T05:27:40.337969",
     "status": "completed"
    },
    "tags": []
   },
   "outputs": [],
   "source": [
    "result.to_csv(\"/kaggle/working/submission.csv\",index=False)"
   ]
  },
  {
   "cell_type": "code",
   "execution_count": null,
   "id": "5d198076",
   "metadata": {
    "papermill": {
     "duration": 0.016356,
     "end_time": "2024-07-13T05:27:53.937415",
     "exception": false,
     "start_time": "2024-07-13T05:27:53.921059",
     "status": "completed"
    },
    "tags": []
   },
   "outputs": [],
   "source": []
  }
 ],
 "metadata": {
  "kaggle": {
   "accelerator": "none",
   "dataSources": [
    {
     "databundleVersionId": 8930475,
     "sourceId": 73291,
     "sourceType": "competition"
    }
   ],
   "dockerImageVersionId": 30732,
   "isGpuEnabled": false,
   "isInternetEnabled": true,
   "language": "python",
   "sourceType": "notebook"
  },
  "kernelspec": {
   "display_name": "Python 3",
   "language": "python",
   "name": "python3"
  },
  "language_info": {
   "codemirror_mode": {
    "name": "ipython",
    "version": 3
   },
   "file_extension": ".py",
   "mimetype": "text/x-python",
   "name": "python",
   "nbconvert_exporter": "python",
   "pygments_lexer": "ipython3",
   "version": "3.10.13"
  },
  "papermill": {
   "default_parameters": {},
   "duration": 276.230407,
   "end_time": "2024-07-13T05:27:54.877268",
   "environment_variables": {},
   "exception": null,
   "input_path": "__notebook__.ipynb",
   "output_path": "__notebook__.ipynb",
   "parameters": {},
   "start_time": "2024-07-13T05:23:18.646861",
   "version": "2.5.0"
  }
 },
 "nbformat": 4,
 "nbformat_minor": 5
}
